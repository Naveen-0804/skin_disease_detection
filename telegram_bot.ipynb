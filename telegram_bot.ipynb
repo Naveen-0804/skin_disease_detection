{
  "cells": [
    {
      "cell_type": "code",
      "execution_count": null,
      "metadata": {
        "colab": {
          "base_uri": "https://localhost:8080/"
        },
        "id": "qjbSMlZQHbUK",
        "outputId": "ecf6d02f-0347-4dd9-ee08-a107f573ddf8"
      },
      "outputs": [
        {
          "output_type": "stream",
          "name": "stderr",
          "text": [
            "Ultralytics YOLOv8.0.196 🚀 Python-3.10.12 torch-2.2.1+cu121 CPU (Intel Xeon 2.20GHz)\n",
            "Setup complete ✅ (2 CPUs, 12.7 GB RAM, 28.9/107.7 GB disk)\n"
          ]
        }
      ],
      "source": [
        "# Pip install method (recommended)\n",
        "\n",
        "!pip install ultralytics==8.0.196\n",
        "\n",
        "from IPython import display\n",
        "display.clear_output()\n",
        "\n",
        "import ultralytics\n",
        "ultralytics.checks()\n",
        "from ultralytics import YOLO"
      ]
    },
    {
      "cell_type": "code",
      "execution_count": null,
      "metadata": {
        "colab": {
          "base_uri": "https://localhost:8080/"
        },
        "id": "DMK0nDHzlfBw",
        "outputId": "11175eb3-6c56-41be-8401-8c6c65db1b53"
      },
      "outputs": [
        {
          "output_type": "stream",
          "name": "stdout",
          "text": [
            "Drive already mounted at /content/drive; to attempt to forcibly remount, call drive.mount(\"/content/drive\", force_remount=True).\n"
          ]
        }
      ],
      "source": [
        "from google.colab import drive\n",
        "drive.mount('/content/drive')"
      ]
    },
    {
      "cell_type": "code",
      "execution_count": null,
      "metadata": {
        "id": "AveDO98N5R2W"
      },
      "outputs": [],
      "source": [
        "!pip install telebot\n",
        "import os\n",
        "import telebot\n",
        "import shutil\n",
        "\n",
        "BOT_TOKEN = '7110063510:AAG_aOvVzBiFHVJIyiscKVfo9s0zoAFQ2to'\n",
        "bot = telebot.TeleBot(BOT_TOKEN)\n",
        "output_folder = \"/content/runs/detect/predict\"\n",
        "\n",
        "@bot.message_handler(content_types=['photo'])\n",
        "def echo_photo(message):\n",
        "    print(\"Image Received\")\n",
        "    # Get the photo ID of the largest available photo\n",
        "    photo = message.photo[-1]\n",
        "    # Download the photo\n",
        "    photo_info = bot.get_file(photo.file_id)\n",
        "    photo_url = f\"https://api.telegram.org/file/bot{BOT_TOKEN}/{photo_info.file_path}\"\n",
        "\n",
        "    # Define the folder where images will be saved\n",
        "    save_folder = \"saved_images\"\n",
        "    try:\n",
        "        shutil.rmtree(\"/content/saved_images\")\n",
        "        shutil.rmtree(\"/content/runs/detect/predict\")\n",
        "        shutil.rmtree(\"/content/runs/detect/predict2\")\n",
        "        shutil.rmtree(\"/content/runs/detect/predict3\")\n",
        "    except Exception as e:\n",
        "        print(f\"Error while removing directory: {e}\")\n",
        "\n",
        "    if not os.path.exists(save_folder):\n",
        "        os.makedirs(save_folder)\n",
        "\n",
        "    # Define the image filename\n",
        "    image_filename = f\"{message.from_user.id}_{message.message_id}.jpg\"\n",
        "    image_path = os.path.join(save_folder, image_filename)\n",
        "\n",
        "    os.system(f\"wget -O {image_path} {photo_url}\")\n",
        "    !yolo task=detect mode=predict model=/content/drive/MyDrive/skin_ds_2.pt conf=0.25 source='/content/saved_images' save=True\n",
        "\n",
        "    # Send the downloaded photo back to the user\n",
        "    final_image_path = os.path.join(output_folder, image_filename)\n",
        "\n",
        "    with open(final_image_path, 'rb') as photo_file:\n",
        "        bot.send_photo(message.chat.id, photo_file)\n",
        "\n",
        "    bot.reply_to(message, \"Image saved and sent!\")\n",
        "\n",
        "@bot.message_handler(content_types=['video'])\n",
        "def video_handler(message):\n",
        "    print(\"Video Received\")\n",
        "    # Get the video file ID\n",
        "    video = message.video\n",
        "    # Download the video\n",
        "    video_info = bot.get_file(video.file_id)\n",
        "    video_url = f\"https://api.telegram.org/file/bot{BOT_TOKEN}/{video_info.file_path}\"\n",
        "\n",
        "    # Define the folder where videos will be saved\n",
        "    save_folder = \"saved_videos\"\n",
        "    try:\n",
        "        shutil.rmtree(\"/content/saved_videos\")\n",
        "        shutil.rmtree(\"/content/runs/detect/predict\")\n",
        "        shutil.rmtree(\"/content/runs/detect/predict2\")\n",
        "        shutil.rmtree(\"/content/runs/detect/predict3\")\n",
        "    except Exception as e:\n",
        "        print(f\"Error while removing directory: {e}\")\n",
        "\n",
        "    if not os.path.exists(save_folder):\n",
        "        os.makedirs(save_folder)\n",
        "\n",
        "    # Define the video filename\n",
        "    video_filename = f\"{message.from_user.id}_{message.message_id}.mp4\"\n",
        "    video_path = os.path.join(save_folder, video_filename)\n",
        "\n",
        "    os.system(f\"wget -O {video_path} {video_url}\")\n",
        "    !yolo task=detect mode=predict model=/content/drive/MyDrive/skin_ds_2.pt conf=0.25 source='/content/saved_videos' save=True\n",
        "\n",
        "    # Send the processed video back to the user\n",
        "    processed_files = os.listdir(output_folder)\n",
        "    if processed_files:\n",
        "        first_processed_file_path = os.path.join(output_folder, processed_files[0])\n",
        "        with open(first_processed_file_path, 'rb') as video_file:\n",
        "            bot.send_video(message.chat.id, video_file, supports_streaming=True)\n",
        "        bot.reply_to(message, \"Video processed and sent!\")\n",
        "    else:\n",
        "        bot.reply_to(message, \"No processed video files found.\")\n",
        "\n",
        "@bot.message_handler(func=lambda message: True)\n",
        "def handle_text_messages(message):\n",
        "    bot.reply_to(message, \"Please send an image or a video.\")\n",
        "\n",
        "if __name__ == \"__main__\":\n",
        "    bot.polling(none_stop=True)\n"
      ]
    }
  ],
  "metadata": {
    "colab": {
      "provenance": []
    },
    "kernelspec": {
      "display_name": "Python 3",
      "name": "python3"
    },
    "language_info": {
      "name": "python"
    }
  },
  "nbformat": 4,
  "nbformat_minor": 0
}